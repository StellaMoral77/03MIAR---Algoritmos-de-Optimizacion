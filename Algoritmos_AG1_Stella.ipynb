{
  "nbformat": 4,
  "nbformat_minor": 0,
  "metadata": {
    "colab": {
      "provenance": [],
      "collapsed_sections": [
        "PGqVZbTlbk96",
        "v2yhVONEcT_9",
        "U3mu4Rercaho",
        "ZYznk29Yckkl",
        "8uAHGb1dnvuP"
      ],
      "include_colab_link": true
    },
    "kernelspec": {
      "name": "python3",
      "display_name": "Python 3"
    },
    "language_info": {
      "name": "python"
    }
  },
  "cells": [
    {
      "cell_type": "markdown",
      "metadata": {
        "id": "view-in-github",
        "colab_type": "text"
      },
      "source": [
        "<a href=\"https://colab.research.google.com/github/StellaMoral77/03MIAR---Algoritmos-de-Optimizacion/blob/main/Algoritmos_AG1_Stella.ipynb\" target=\"_parent\"><img src=\"https://colab.research.google.com/assets/colab-badge.svg\" alt=\"Open In Colab\"/></a>"
      ]
    },
    {
      "cell_type": "markdown",
      "metadata": {
        "id": "GG2D6vLdYwwy"
      },
      "source": [
        "Actividad Guiada 1 de Algoritmos de Optimizacion\n",
        "\n",
        "Nombre: Stella Moral Salguero.\n",
        "https://colab.research.google.com/drive/1RZ7izEfRBOKjJED8I4tGEASEuBol59rX?usp=sharing\n",
        "\n",
        "https://github.com/StellaMoral77/03MIAR---Algoritmos-de-Optimizacion"
      ]
    },
    {
      "cell_type": "markdown",
      "source": [
        "# Torres de Hanoi - Divide y vencerás"
      ],
      "metadata": {
        "id": "PGqVZbTlbk96"
      }
    },
    {
      "cell_type": "markdown",
      "source": [
        "El problema de las Torres de Hanoi es un problema que se puede resolver por la técnica divide y vencerás mediante un algoritmo recursivo.\n",
        "El problema consiste en mover todos los discos de una varilla a otra varilla, respetando las siguientes reglas:\n",
        "\n",
        "\n",
        "*   Sólo se puede mover un disco a la vez.\n",
        "*   Un disco mayor no puede colocarse encima de un disco menor.\n",
        "*   Para resolver el problema, se utiliza una tercera varilla como varilla auxiliar.\n",
        "\n",
        "El algoritmo se basa en el hecho de que para mover n discos de una varilla a otra, es necesario primero mover n-1 discos a la varilla auxiliar y luego mover el disco más grande a la varilla destino. \n",
        "Luego se mueven los n-1 discos de la varilla auxiliar a la varilla destino.\n",
        "\n",
        "**Su orden de complejidad es : O (2^^n)**\n"
      ],
      "metadata": {
        "id": "atlw0xWKbq8c"
      }
    },
    {
      "cell_type": "code",
      "metadata": {
        "id": "rTiqLuX2ZKuL",
        "outputId": "f3b73e38-06b6-4766-8a34-e6c99906cdd1",
        "colab": {
          "base_uri": "https://localhost:8080/"
        }
      },
      "source": [
        "#Torres de Hanoi - Divide y venceras\n",
        "################################################################################\n",
        "\n",
        "################################################################\n",
        "def Torres_Hanoi(N, desde, hasta):\n",
        "  #N - Nº de fichas\n",
        "  #desde - torre inicial\n",
        "  #hasta - torre final\n",
        "  if N==1 :\n",
        "    print(\"Lleva la ficha desde \" + str(desde) + \" hasta \" + str(hasta))\n",
        "\n",
        "#1,3 -> pivote 2\n",
        "#1,2 -> pivote 3\n",
        "#2,3 -> pivote 1\n",
        "  else:\n",
        "    #desde (torre inicial) , hasta (elemento pivote)\n",
        "    Torres_Hanoi(N-1, desde, 6-desde-hasta)\n",
        "    print(\"Lleva la ficha desde \" + str(desde) + \" hasta \" + str(hasta))\n",
        "    #desde (pivote) hasta(torre final)\n",
        "    Torres_Hanoi(N-1, 6-desde-hasta,  hasta)\n",
        "\n",
        "Torres_Hanoi(3, 1, 3)\n",
        "################################################################"
      ],
      "execution_count": null,
      "outputs": [
        {
          "output_type": "stream",
          "name": "stdout",
          "text": [
            "Lleva la ficha desde 1 hasta 3\n",
            "Lleva la ficha desde 1 hasta 2\n",
            "Lleva la ficha desde 3 hasta 2\n",
            "Lleva la ficha desde 1 hasta 3\n",
            "Lleva la ficha desde 2 hasta 1\n",
            "Lleva la ficha desde 2 hasta 3\n",
            "Lleva la ficha desde 1 hasta 3\n"
          ]
        }
      ]
    },
    {
      "cell_type": "markdown",
      "source": [
        "# Cambio de monedas - Técnica voraz"
      ],
      "metadata": {
        "id": "v2yhVONEcT_9"
      }
    },
    {
      "cell_type": "markdown",
      "source": [
        "El algoritmo para cambio de monedas utilizando técnicas voraces se basa en la idea de seleccionar en cada paso la moneda de mayor valor disponible que sea menor o igual al importe pendiente de cambio. El algoritmo voraz es una técnica que se basa en la idea de tomar la mejor opción disponible en cada momento con el objetivo de maximizar el beneficio o minimizar el costo.\n",
        "\n",
        "La idea general del algoritmo es la siguiente:\n",
        "\n",
        "\n",
        "1.   Ordenar las monedas de mayor a menor.\n",
        "\n",
        "2.   Inicializar un contador a cero para almacenar el número de monedas utilizadas.\n",
        "3.   Mientras quede un importe pendiente de cambio, se repite los siguientes pasos:\n",
        "\n",
        "          a. Seleccionar la primera moneda en el orden dado, que sea menor o igual al importe pendiente de cambio.\n",
        "\n",
        "          b. Sumar 1 al contador de monedas.\n",
        "\n",
        "          c. Restar el valor de la moneda seleccionada al importe pendiente de cambio.\n",
        "\n",
        "4.   devolver el número de monedas utilizadas en el cambio.\n",
        "\n",
        "Es importante aclarar que este algoritmo tiene como desventaja que puede no ser capaz de encontrar la solución óptima, es decir, el número mínimo de monedas necesarias para el cambio dado. Para resolver este problema se puede utilizar programación dinámica.\n",
        "La complejidad computacional de este algoritmo es **O(n)** donde n es el número de tipos diferentes de monedas."
      ],
      "metadata": {
        "id": "4mlkZDvdd1rq"
      }
    },
    {
      "cell_type": "code",
      "metadata": {
        "id": "YwBudj2hYoMR",
        "colab": {
          "base_uri": "https://localhost:8080/"
        },
        "outputId": "775d2e57-0137-4c14-a1c6-690e4e66d810"
      },
      "source": [
        "#Cambio de monedas - Técnica voraz\n",
        "################################################################################\n",
        "SISTEMA = [12, 5 ,2, 1  ]\n",
        "################################################################\n",
        "def cambio_monedas(CANTIDAD,SISTEMA):\n",
        "#....\n",
        "  SOLUCION = [0]*len(SISTEMA)\n",
        "  ValorAcumulado = 0\n",
        "\n",
        "  for i,valor in enumerate(SISTEMA):\n",
        "    monedas = (CANTIDAD-ValorAcumulado)//valor\n",
        "    SOLUCION[i] = monedas\n",
        "    ValorAcumulado = ValorAcumulado + monedas*valor\n",
        "\n",
        "    if CANTIDAD == ValorAcumulado:\n",
        "      return SOLUCION\n",
        "\n",
        "  print(\"No es posible encontrar solucion\") \n",
        "cambio_monedas(15,SISTEMA)\n",
        "\n",
        "    \n",
        "################################################################"
      ],
      "execution_count": null,
      "outputs": [
        {
          "output_type": "execute_result",
          "data": {
            "text/plain": [
              "[1, 0, 1, 1]"
            ]
          },
          "metadata": {},
          "execution_count": 1
        }
      ]
    },
    {
      "cell_type": "code",
      "source": [
        "#Otra solución\n",
        "def cambio_monedas(cantidad, sistema):\n",
        "\n",
        "  # cantidad a cambiar\n",
        "\n",
        "  # sistema: valor de las monedas diferente, ordenado de mayor valor a menor\n",
        "  \n",
        "  solucion = {}\n",
        "\n",
        "  for i, v in enumerate(sistema):\n",
        "\n",
        "    monedas = cantidad // v\n",
        "\n",
        "    solucion[v] = monedas\n",
        "\n",
        "    cantidad -= monedas * v\n",
        "\n",
        "\n",
        "\n",
        "    if cantidad == 0:\n",
        "\n",
        "      return solucion"
      ],
      "metadata": {
        "id": "m_ZLfN5k25PP"
      },
      "execution_count": null,
      "outputs": []
    },
    {
      "cell_type": "code",
      "source": [
        "SISTEMA = [12, 5 ,2, 1  ]\n",
        "cambio_monedas(15,SISTEMA)"
      ],
      "metadata": {
        "colab": {
          "base_uri": "https://localhost:8080/"
        },
        "id": "0LLMaoP63AEX",
        "outputId": "66e67bae-1f32-4cc2-b2dc-a2721f72e18f"
      },
      "execution_count": null,
      "outputs": [
        {
          "output_type": "execute_result",
          "data": {
            "text/plain": [
              "{12: 1, 5: 0, 2: 1, 1: 1}"
            ]
          },
          "metadata": {},
          "execution_count": 3
        }
      ]
    },
    {
      "cell_type": "code",
      "source": [
        "#Programación dinámica\n",
        "def cambio_monedas(monedas, cantidad):\n",
        "    # Creamos una lista para almacenar el número mínimo de monedas necesarias\n",
        "    # para cada valor desde 1 hasta la cantidad deseada\n",
        "    min_monedas = [float(\"inf\")] * (cantidad + 1)\n",
        "    \n",
        "    # Inicializamos el número mínimo de monedas necesarias para 0 cantidad a 0\n",
        "    min_monedas[0] = 0\n",
        "    \n",
        "    # Iteramos sobre la cantidad desde 1 hasta la cantidad deseada\n",
        "    for i in range(1, cantidad + 1):\n",
        "        # Iteramos sobre cada moneda\n",
        "        for moneda in monedas:\n",
        "            # Comprobamos si el valor de la moneda es menor o igual a la cantidad actual\n",
        "            if moneda <= i:\n",
        "                # Usamos el número mínimo de monedas previamente calculado para la cantidad restante\n",
        "                monedas_actuales = min_monedas[i - moneda] + 1\n",
        "                \n",
        "                # Actualizamos el número mínimo de monedas si se encuentra un nuevo mínimo\n",
        "                if monedas_actuales < min_monedas[i]:\n",
        "                    min_monedas[i] = monedas_actuales\n",
        "    return min_monedas[cantidad]\n",
        "\n"
      ],
      "metadata": {
        "id": "6t-h2wq86ujp"
      },
      "execution_count": null,
      "outputs": []
    },
    {
      "cell_type": "code",
      "source": [
        "# Ejemplo de uso\n",
        "monedas = [1, 5, 10, 25]\n",
        "cantidad = 27\n",
        "print(cambio_monedas(monedas, cantidad))\n",
        "# Salida: 3 "
      ],
      "metadata": {
        "colab": {
          "base_uri": "https://localhost:8080/"
        },
        "id": "nbhhz5Kw7ebZ",
        "outputId": "4df14618-7d20-490f-d367-7eae29e73a35"
      },
      "execution_count": null,
      "outputs": [
        {
          "output_type": "stream",
          "name": "stdout",
          "text": [
            "3\n"
          ]
        }
      ]
    },
    {
      "cell_type": "code",
      "source": [
        "# Ejemplo de uso\n",
        "monedas = [1, 5, 10, 25]\n",
        "cantidad = 17\n",
        "print(cambio_monedas(monedas, cantidad))\n",
        "# Salida: 4 "
      ],
      "metadata": {
        "colab": {
          "base_uri": "https://localhost:8080/"
        },
        "id": "c-PAcuxc7fpi",
        "outputId": "0baac3df-4259-4760-973f-2c7b892e91d7"
      },
      "execution_count": null,
      "outputs": [
        {
          "output_type": "stream",
          "name": "stdout",
          "text": [
            "4\n"
          ]
        }
      ]
    },
    {
      "cell_type": "markdown",
      "source": [
        "Este código utiliza una matriz de programación dinámica para almacenar el número mínimo de monedas necesarias para cada cantidad de cambio desde 1 hasta la cantidad deseada. El primer bucle recorre la cantidad desde 1 hasta la cantidad deseada y el segundo bucle recorre cada moneda disponible. Si el valor de la moneda actual es menor o igual que la cantidad actual, el algoritmo utiliza el número mínimo de monedas necesarias para la cantidad restante y suma 1 para contar la moneda actual. Si el número total de monedas es menor que el número actual de monedas en la matriz, se actualiza la matriz con el nuevo número de monedas."
      ],
      "metadata": {
        "id": "_wSGGtLO7DdR"
      }
    },
    {
      "cell_type": "markdown",
      "source": [
        "# N Reinas - Vuelta Atrás"
      ],
      "metadata": {
        "id": "U3mu4Rercaho"
      }
    },
    {
      "cell_type": "markdown",
      "source": [
        "El problema de las N reinas es un problema clásico de inteligencia artificial que consiste en colocar N reinas en un tablero de ajedrez de N x N, de tal forma que ninguna reina pueda atacar a otra. El objetivo es encontrar una configuración de reinas válida en la que ninguna reina ataque a otra, lo que significa que ninguna reina se encuentre en la misma fila, columna o diagonal que otra reina.\n",
        "\n",
        "Un algoritmo de vuelta atrás es una técnica de búsqueda que consiste en probar diferentes soluciones y volver atrás (backtracking) cuando se llega a una solución inválida. El algoritmo de vuelta atrás para el problema de las N reinas es una técnica que se basa en probar diferentes posiciones de reinas en el tablero y verificar si son válidas. Si la posición es válida, se continúa con la próxima reina. Si la posición es inválida, se retrocede a la posición anterior y se prueba una nueva posición para esa reina. Este proceso se repite hasta que se encuentra una solución o se agotan todas las posibilidades."
      ],
      "metadata": {
        "id": "0mPOtz5M8nHl"
      }
    },
    {
      "cell_type": "code",
      "metadata": {
        "id": "H4Iwt2XRZTFr",
        "colab": {
          "base_uri": "https://localhost:8080/"
        },
        "outputId": "e1143644-6882-4f3f-ec5c-23e2590013fa"
      },
      "source": [
        "#N Reinas - Vuelta Atrás()\n",
        "################################################################################\n",
        "\n",
        "#Verifica que en la solución parcial no hay amenzas entre reinas\n",
        "################################################################\n",
        "def es_prometedora(SOLUCION,etapa):\n",
        "################################################################\n",
        "  #print(SOLUCION)\n",
        "  #Si la solución tiene dos valores iguales no es valida => Dos reinas en la misma fila\n",
        "  for i in range(etapa+1):\n",
        "    #print(\"El valor \" + str(SOLUCION[i]) + \" está \" +  str(SOLUCION.count(SOLUCION[i])) + \" veces\")\n",
        "    if SOLUCION.count(SOLUCION[i]) > 1:       \n",
        "      return False\n",
        "  \n",
        "    #Verifica las diagonales\n",
        "    for j in range(i+1, etapa +1 ):\n",
        "      #print(\"Comprobando diagonal de \" + str(i) + \" y \" + str(j))\n",
        "      if abs(i-j) == abs(SOLUCION[i]-SOLUCION[j]) : return False\n",
        "  return True\n",
        "\n",
        "#Traduce la solución al tablero\n",
        "################################################################\n",
        "def escribe_solucion(S):\n",
        "################################################################\n",
        "  n = len(S)\n",
        "  for x in range(n):\n",
        "    print(\"\")\n",
        "    for i in range(n):\n",
        "      if S[i] == x+1:\n",
        "        print(\" X \" , end=\"\")\n",
        "      else:\n",
        "        print(\" - \", end=\"\")\n",
        "\n",
        "\n",
        "\n",
        "#Proceso principal de N-Reinas\n",
        "################################################################\n",
        "def reinas(N, solucion=[],etapa=0): \n",
        "################################################################\n",
        "### ....\n",
        "  if len(solucion) == 0:         # [0,0,0...]\n",
        "    solucion = [0 for i in range(N) ]\n",
        "  \n",
        "  for i in range(1, N+1):\n",
        "    solucion[etapa] = i\n",
        "    if es_prometedora(solucion, etapa):\n",
        "      if etapa == N-1:\n",
        "        print(solucion)\n",
        "      else:  \n",
        "        reinas(N, solucion, etapa+1)\n",
        "    else:\n",
        "      None\n",
        "  \n",
        "  solucion[etapa] = 0\n",
        "\n",
        "reinas(4,solucion=[],etapa=0)"
      ],
      "execution_count": null,
      "outputs": [
        {
          "output_type": "stream",
          "name": "stdout",
          "text": [
            "[2, 4, 1, 3]\n",
            "[3, 1, 4, 2]\n"
          ]
        }
      ]
    },
    {
      "cell_type": "code",
      "metadata": {
        "id": "eTZclKH9QV0R",
        "colab": {
          "base_uri": "https://localhost:8080/"
        },
        "outputId": "2498a139-e31e-4b65-e604-0fecd9741ebf"
      },
      "source": [
        "escribe_solucion([3, 1, 4, 2])"
      ],
      "execution_count": null,
      "outputs": [
        {
          "output_type": "stream",
          "name": "stdout",
          "text": [
            "\n",
            " -  X  -  - \n",
            " -  -  -  X \n",
            " X  -  -  - \n",
            " -  -  X  - "
          ]
        }
      ]
    },
    {
      "cell_type": "code",
      "source": [
        "#Otra solucion\n",
        "def is_safe(board, row, col, N):\n",
        "    # Check the current column\n",
        "    for i in range(row):\n",
        "        if board[i] == col:\n",
        "            return False\n",
        "   \n",
        "    # Check the diagonal\n",
        "    for i, j in zip(range(row, -1, -1), range(col, -1, -1)):\n",
        "        if board[i] == j:\n",
        "            return False\n",
        "   \n",
        "    # Check the other diagonal\n",
        "    for i, j in zip(range(row, -1, -1), range(col, N)):\n",
        "        if board[i] == j:\n",
        "            return False\n",
        "   \n",
        "    return True\n",
        "\n",
        "def solve_n_queens(board, row, N):\n",
        "    if row == N:\n",
        "        print(board)\n",
        "        return\n",
        "   \n",
        "    for col in range(N):\n",
        "        if is_safe(board, row, col, N):\n",
        "            board[row] = col\n",
        "            solve_n_queens(board, row + 1, N)\n",
        "            board[row] = -1\n",
        "\n",
        "N = 4\n",
        "board = [-1 for i in range(N)]\n",
        "solve_n_queens(board, 0, N)\n"
      ],
      "metadata": {
        "colab": {
          "base_uri": "https://localhost:8080/"
        },
        "id": "B6beI9ve8-uD",
        "outputId": "3b88bd0b-fed1-41b8-82be-29bb1a94da4a"
      },
      "execution_count": null,
      "outputs": [
        {
          "output_type": "stream",
          "name": "stdout",
          "text": [
            "[1, 3, 0, 2]\n",
            "[2, 0, 3, 1]\n"
          ]
        }
      ]
    },
    {
      "cell_type": "code",
      "source": [
        "def print_board(board, N):\n",
        "    chessboard = [['-' for j in range(N)] for i in range(N)]\n",
        "    for i in range(N):\n",
        "        chessboard[i][board[i]] = 'X'\n",
        "    for row in chessboard:\n",
        "        print(row)\n",
        "    print()"
      ],
      "metadata": {
        "id": "POqdQJvx9S1O"
      },
      "execution_count": null,
      "outputs": []
    },
    {
      "cell_type": "code",
      "source": [
        "print_board([1, 3, 0, 2], 4)"
      ],
      "metadata": {
        "colab": {
          "base_uri": "https://localhost:8080/"
        },
        "id": "plyRiWUK9wHR",
        "outputId": "5ecf8cb6-0e72-420f-d091-731c10c03c8e"
      },
      "execution_count": null,
      "outputs": [
        {
          "output_type": "stream",
          "name": "stdout",
          "text": [
            "['-', 'X', '-', '-']\n",
            "['-', '-', '-', 'X']\n",
            "['X', '-', '-', '-']\n",
            "['-', '-', 'X', '-']\n",
            "\n"
          ]
        }
      ]
    },
    {
      "cell_type": "code",
      "source": [
        "print_board([2, 0, 3, 1], 4)"
      ],
      "metadata": {
        "colab": {
          "base_uri": "https://localhost:8080/"
        },
        "id": "IucPOR_m-SBr",
        "outputId": "a2f77f86-9cf6-4931-b882-65a640f4e579"
      },
      "execution_count": null,
      "outputs": [
        {
          "output_type": "stream",
          "name": "stdout",
          "text": [
            "['-', '-', 'X', '-']\n",
            "['X', '-', '-', '-']\n",
            "['-', '-', '-', 'X']\n",
            "['-', 'X', '-', '-']\n",
            "\n"
          ]
        }
      ]
    },
    {
      "cell_type": "markdown",
      "source": [
        "# Viaje por el rio - Programación dinámica"
      ],
      "metadata": {
        "id": "ZYznk29Yckkl"
      }
    },
    {
      "cell_type": "markdown",
      "source": [
        "El problema del viajero del río es un problema de programación dinámica clásico que se utiliza para ilustrar el concepto de programación dinámica. \n",
        "La solución a este problema se basa en dividir el problema en subproblemas más pequeños y resolverlos de manera independiente. Se crea una tabla que almacena las soluciones intermedias para cada subproblema y se utiliza para evitar tener que volver a calcular las soluciones intermedias.\n",
        "\n",
        "La idea es utilizar una tabla para almacenar las soluciones a los subproblemas, y ir completando la tabla en un orden específico para poder utilizar las soluciones intermedias para resolver problemas más grandes. Esto se logra a través de la definición de una función de transición que especifica cómo se relacionan los subproblemas entre sí.\n",
        "\n",
        "En este caso, se crea una tabla con las posibles soluciones para cada combinación de objetos en ambas orillas del río. Cada celda de la tabla representa un subproblema, y se llena en función de las soluciones a los subproblemas anteriores. El proceso continúa hasta que se llega a la solución final, que es la celda en la esquina superior derecha de la tabla."
      ],
      "metadata": {
        "id": "SVZpfVGknicr"
      }
    },
    {
      "cell_type": "code",
      "metadata": {
        "id": "TocxR55dQWq5",
        "outputId": "bf7b865d-6b5b-47c4-ef10-526f73a7bf7b",
        "colab": {
          "base_uri": "https://localhost:8080/",
          "height": 365
        }
      },
      "source": [
        "#Viaje por el rio - Programación dinámica\n",
        "################################################################################\n",
        "\n",
        "TARIFAS = [\n",
        "[0,5,4,3,999,999,999],\n",
        "[999,0,999,2,3,999,11],\n",
        "[999,999, 0,1,999,4,10],\n",
        "[999,999,999, 0,5,6,9],\n",
        "[999,999, 999,999,0,999,4],\n",
        "[999,999, 999,999,999,0,3],\n",
        "[999,999,999,999,999,999,0]\n",
        "]\n",
        "\n",
        "#999 se puede sustituir por float(\"inf\")\n",
        "\n",
        "\n",
        "#Calculo de la matriz de PRECIOS y RUTAS\n",
        "################################################################  \n",
        "def Precios(TARIFAS):\n",
        "################################################################  \n",
        "  #Total de Nodos\n",
        "  N = len(TARIFAS[0])\n",
        "  \n",
        "  #Inicialización de la tabla de precios\n",
        "  PRECIOS = [ [9999]*N for i in [9999]*N]\n",
        "  RUTA = [ [\"\"]*N for i in [\"\"]*N]\n",
        "  \n",
        "  for i in range(0,N-1):\n",
        "    RUTA[i][i] = i             #Para ir de i a i se \"pasa por i\"\n",
        "    PRECIOS[i][i] = 0          #Para ir de i a i se se paga 0\n",
        "    for j in range(i+1, N):\n",
        "      MIN = TARIFAS[i][j]\n",
        "      RUTA[i][j] = i         \n",
        "      \n",
        "      for k in range(i, j):\n",
        "        if PRECIOS[i][k] + TARIFAS[k][j] < MIN:\n",
        "            MIN = min(MIN, PRECIOS[i][k] + TARIFAS[k][j] )\n",
        "            RUTA[i][j] = k          #Anota que para ir de i a j hay que pasar por k\n",
        "        PRECIOS[i][j] = MIN\n",
        "        \n",
        "  return PRECIOS,RUTA\n",
        "################################################################  \n",
        "\n",
        "PRECIOS,RUTA = Precios(TARIFAS)  \n",
        "#print(PRECIOS[0][6])\n",
        "\n",
        "print(\"PRECIOS\")\n",
        "for i in range(len(TARIFAS)):\n",
        "  print(PRECIOS[i])\n",
        "\n",
        "print(\"\\nRUTA\")  \n",
        "for i in range(len(TARIFAS)):\n",
        "  print(RUTA[i])  \n",
        "  \n",
        "#Determinar la ruta con Recursividad\n",
        "def calcular_ruta(RUTA, desde, hasta):\n",
        "  if desde == hasta:\n",
        "    #print(\"Ir a :\" + str(desde))\n",
        "    return \"\" \n",
        "  else:\n",
        "    return str(calcular_ruta( RUTA, desde, RUTA[desde][hasta])) +  \\\n",
        "                ',' + \\\n",
        "                str(RUTA[desde][hasta] \\\n",
        "              ) \n",
        "\n",
        "print(\"\\nLa ruta es:\")  \n",
        "calcular_ruta(RUTA, 0,6)  "
      ],
      "execution_count": null,
      "outputs": [
        {
          "output_type": "stream",
          "name": "stdout",
          "text": [
            "PRECIOS\n",
            "[0, 5, 4, 3, 8, 8, 11]\n",
            "[9999, 0, 999, 2, 3, 8, 7]\n",
            "[9999, 9999, 0, 1, 6, 4, 7]\n",
            "[9999, 9999, 9999, 0, 5, 6, 9]\n",
            "[9999, 9999, 9999, 9999, 0, 999, 4]\n",
            "[9999, 9999, 9999, 9999, 9999, 0, 3]\n",
            "[9999, 9999, 9999, 9999, 9999, 9999, 9999]\n",
            "\n",
            "RUTA\n",
            "[0, 0, 0, 0, 1, 2, 5]\n",
            "['', 1, 1, 1, 1, 3, 4]\n",
            "['', '', 2, 2, 3, 2, 5]\n",
            "['', '', '', 3, 3, 3, 3]\n",
            "['', '', '', '', 4, 4, 4]\n",
            "['', '', '', '', '', 5, 5]\n",
            "['', '', '', '', '', '', '']\n",
            "\n",
            "La ruta es:\n"
          ]
        },
        {
          "output_type": "execute_result",
          "data": {
            "text/plain": [
              "',0,2,5'"
            ],
            "application/vnd.google.colaboratory.intrinsic+json": {
              "type": "string"
            }
          },
          "metadata": {},
          "execution_count": 39
        }
      ]
    },
    {
      "cell_type": "markdown",
      "source": [
        "# Encontrar los dos puntos más cercanos"
      ],
      "metadata": {
        "id": "8uAHGb1dnvuP"
      }
    },
    {
      "cell_type": "markdown",
      "source": [
        "**1D por fuerza bruta. Cálculo de la complejidad.**"
      ],
      "metadata": {
        "id": "tRucSSwPso3j"
      }
    },
    {
      "cell_type": "markdown",
      "source": [
        "Para resolver este problema en 1D por fuerza bruta se seguirán los siguientes pasos:\n",
        "\n",
        "\n",
        "1.   Ordenar la lista de identificadores de puntos, para poder compararlos en orden.\n",
        "2.   Inicializar dos variables, distancia_minima y p1, p2 para guardar la distancia minima encontrada y los puntos correspondientes\n",
        "3.   Iterar sobre la lista de identificadores de puntos, comparando cada punto con el siguiente. Calcular la distancia entre ellos y actualizar distancia_minima y p1, p2 si la distancia encontrada es menor que la distancia_minima actual.\n",
        "4.   Una vez que se han comparado todos los puntos, se tiene los dos puntos más cercanos en la lista, guardados en las variables p1, p2 y la distancia minima entre ellos guardada en distancia_minima.\n",
        "\n",
        "Este algoritmo es de complejidad **O(n*log n)** debido al ordenamiento inicial de la lista de identificadores de puntos. El algoritmo utiliza un algoritmo de ordenamiento, como el ordenamiento por burbuja, el ordenamiento de inserción o el ordenamiento rápido (QuickSort), que tienen una complejidad temporal de O(n log n).\n",
        "\n",
        "En resumen, el ordenamiento de la lista de puntos tiene una complejidad O(n log n) y el resto del algoritmo, que consiste en iterar sobre la lista y comparar las distancias entre los puntos consecutivos tiene una complejidad O(n) , por lo tanto la complejidad total del algoritmo es O(n log n).Es importante mencionar que si no se necesita ordenar la lista, la complejidad del algoritmo seria O(n^2) debido a que se comparan todos los puntos entre si, lo cual es mas costoso que el ordenamiento.\n",
        "\n",
        "\n",
        "\n",
        "\n"
      ],
      "metadata": {
        "id": "U0t8zhYSpwXX"
      }
    },
    {
      "cell_type": "code",
      "source": [
        "import math\n",
        "import random\n",
        "\n",
        "def distancia(p1, p2):\n",
        "    #Función que calcula la distancia entre dos puntos\n",
        "    return math.sqrt((p1 - p2)**2)\n",
        "\n",
        "def puntos_mas_cercanos(LISTA_1D):\n",
        "    #Ordenamos la lista de identificadores de puntos\n",
        "    LISTA_1D.sort()\n",
        "    #Inicializamos variables\n",
        "    distancia_minima = float(\"inf\")\n",
        "    p1 = 0\n",
        "    p2 = 0\n",
        "    #Iteramos sobre la lista de identificadores de puntos\n",
        "    for i in range(len(LISTA_1D) - 1):\n",
        "        #Calculamos la distancia entre el punto actual y el siguiente\n",
        "        d = distancia(LISTA_1D[i], LISTA_1D[i + 1])\n",
        "        #Actualizamos distancia_minima y p1, p2 si la distancia encontrada es menor\n",
        "        if d < distancia_minima:\n",
        "            distancia_minima = d\n",
        "            p1, p2 = LISTA_1D[i], LISTA_1D[i + 1]\n",
        "    return p1, p2, distancia_minima\n"
      ],
      "metadata": {
        "id": "Jve7Sj-Cqhnl"
      },
      "execution_count": null,
      "outputs": []
    },
    {
      "cell_type": "code",
      "source": [
        "#Ejemplo de uso sencillo\n",
        "LISTA_1D = [1,4,20,21,80]\n",
        "print(LISTA_1D)\n",
        "p1, p2, distancia_minima = puntos_mas_cercanos(LISTA_1D)\n",
        "print(\"Los puntos más cercanos son:\", p1, \"y\", p2)\n",
        "print(\"La distancia entre ellos es:\", distancia_minima)"
      ],
      "metadata": {
        "colab": {
          "base_uri": "https://localhost:8080/"
        },
        "id": "ff6dL88LrHqh",
        "outputId": "89749c5a-d0c7-406e-f0b5-55c88ab93bfb"
      },
      "execution_count": null,
      "outputs": [
        {
          "output_type": "stream",
          "name": "stdout",
          "text": [
            "[1, 4, 20, 21, 80]\n",
            "Los puntos más cercanos son: 20 y 21\n",
            "La distancia entre ellos es: 1.0\n"
          ]
        }
      ]
    },
    {
      "cell_type": "code",
      "source": [
        "#Ejemplo de uso\n",
        "LISTA_1D = [random.randrange(1,10000) for x in range(1000)]\n",
        "print(LISTA_1D)\n",
        "p1, p2, distancia_minima = puntos_mas_cercanos(LISTA_1D)\n",
        "print(\"Los puntos más cercanos son:\", p1, \"y\", p2)\n",
        "print(\"La distancia entre ellos es:\", distancia_minima)"
      ],
      "metadata": {
        "colab": {
          "base_uri": "https://localhost:8080/"
        },
        "id": "C3hRXwNtrDLT",
        "outputId": "8dcab94c-aefa-4d87-e883-433bc9982193"
      },
      "execution_count": null,
      "outputs": [
        {
          "output_type": "stream",
          "name": "stdout",
          "text": [
            "[6636, 4410, 5983, 9606, 800, 8921, 5606, 6852, 9884, 7559, 1440, 5739, 7861, 9200, 2575, 1991, 8215, 8645, 9034, 9671, 7350, 726, 6031, 6522, 5569, 1050, 2780, 4575, 6488, 3905, 7558, 6491, 1556, 1891, 5552, 5195, 6798, 7809, 6157, 1429, 3702, 5949, 5342, 6372, 7591, 5824, 8453, 2454, 3984, 1450, 6385, 9112, 5522, 4008, 3051, 509, 3000, 2680, 9980, 6342, 3014, 603, 5424, 8952, 9684, 7711, 7269, 6853, 4784, 1236, 3576, 6283, 8515, 2620, 6559, 7988, 3597, 4297, 5004, 5644, 5138, 7626, 5708, 819, 7239, 129, 6437, 1540, 6376, 4264, 2743, 7714, 4900, 9747, 700, 5976, 9471, 7998, 9783, 6702, 5075, 3274, 4936, 113, 7839, 6965, 2727, 4997, 9971, 4000, 7438, 6689, 8594, 5702, 7298, 8435, 733, 3185, 6060, 4897, 7433, 8144, 9462, 9263, 720, 9506, 3134, 8188, 4600, 7940, 4945, 627, 8067, 8974, 2014, 8367, 1844, 4644, 2480, 2150, 6309, 3387, 573, 814, 7133, 3546, 9566, 9364, 2585, 1330, 4322, 5805, 5344, 3832, 2041, 4166, 7267, 6492, 7162, 2563, 1237, 7979, 1272, 5898, 6684, 3855, 415, 9703, 7753, 8566, 3790, 7786, 5241, 2893, 4311, 3876, 1479, 5798, 1108, 4554, 757, 225, 802, 1412, 8974, 2525, 3337, 5978, 4813, 3078, 6152, 5268, 5059, 1284, 6952, 1703, 1402, 407, 9570, 292, 2626, 3705, 2503, 6825, 1244, 4809, 2175, 4550, 1445, 6901, 2243, 8906, 5306, 3401, 9986, 6272, 1803, 1065, 3767, 3987, 3613, 7705, 5000, 308, 4994, 1094, 5346, 3606, 4352, 9786, 460, 1329, 892, 3063, 5736, 8065, 1900, 8484, 1771, 4727, 4988, 5112, 9272, 811, 2668, 9630, 9062, 2945, 8538, 6628, 8506, 6555, 7664, 6548, 5959, 2743, 8771, 8604, 836, 8153, 9083, 9210, 1866, 5167, 4508, 3276, 4989, 8641, 2232, 3414, 7424, 5130, 3865, 6275, 4479, 3960, 7003, 5007, 6210, 4195, 5904, 8350, 7112, 3153, 1887, 9389, 9468, 5387, 8511, 6019, 8091, 6556, 8519, 9344, 7433, 5177, 4364, 3340, 8900, 1220, 8425, 1935, 4738, 9602, 5992, 9531, 3652, 2119, 8059, 2864, 686, 730, 773, 8342, 4390, 5299, 5578, 1225, 9735, 4335, 7848, 8544, 456, 1576, 5936, 1700, 7115, 283, 8865, 494, 8135, 2261, 3994, 7839, 2502, 1568, 129, 5443, 1501, 6839, 340, 8878, 633, 5111, 257, 9452, 4224, 7374, 4034, 5881, 6587, 9700, 8026, 3943, 5064, 2115, 1420, 3791, 2122, 8641, 3220, 8404, 9762, 8431, 1903, 3746, 3329, 3863, 88, 8485, 6227, 6275, 6743, 2436, 8898, 2240, 4471, 7086, 5354, 9779, 6135, 7864, 4315, 7283, 4336, 5373, 3609, 1664, 5205, 8539, 7992, 3059, 5517, 4926, 8658, 6728, 3242, 8655, 9899, 73, 8935, 7528, 6546, 7018, 5699, 4103, 5534, 7633, 9249, 5750, 2269, 7364, 7161, 1658, 378, 8659, 7909, 3069, 5099, 2726, 6407, 7283, 5338, 9316, 215, 5656, 4506, 4954, 1850, 8912, 9549, 3884, 5935, 5742, 456, 1292, 8549, 1774, 8646, 1843, 1374, 9478, 1119, 4273, 2613, 9152, 7419, 531, 3832, 2787, 8133, 4027, 8627, 9756, 7707, 1153, 9378, 9723, 4662, 1486, 6235, 1590, 8455, 4097, 8481, 1182, 8935, 5124, 839, 3442, 2932, 5242, 6811, 2436, 304, 537, 7090, 3709, 6128, 3689, 4246, 4749, 489, 5818, 9098, 1781, 8473, 4577, 9493, 7256, 3882, 547, 3335, 240, 4911, 3659, 7114, 6907, 4831, 2547, 5551, 8909, 6968, 9073, 9585, 8166, 6624, 1543, 1010, 3284, 3204, 4205, 665, 8974, 3302, 5154, 6306, 2888, 9221, 4123, 6023, 5780, 113, 668, 9395, 2402, 8932, 5091, 9090, 5844, 8044, 3060, 7439, 6732, 6425, 6849, 6036, 824, 8983, 3116, 275, 5274, 6960, 188, 2313, 1782, 9625, 5526, 7247, 6740, 8231, 5958, 4978, 7157, 7116, 4086, 6918, 9887, 8218, 8618, 1648, 2831, 2009, 6712, 7421, 7407, 3169, 3634, 9040, 3825, 4771, 6855, 7120, 7545, 8766, 8797, 4104, 1588, 5269, 1352, 5201, 4553, 826, 9760, 4456, 441, 3271, 6183, 8224, 411, 2270, 1957, 4990, 1512, 5573, 2137, 9756, 1681, 4923, 6030, 7973, 253, 6474, 6205, 2313, 1155, 6285, 3949, 4743, 9304, 9160, 28, 8241, 8657, 2398, 9076, 8776, 4501, 4991, 9211, 4229, 9804, 9287, 3973, 5094, 8002, 6756, 5198, 6023, 3919, 252, 9133, 4237, 4971, 7053, 9727, 2366, 1953, 1193, 7773, 4505, 2684, 9864, 6646, 2639, 8772, 2947, 8393, 7591, 8278, 4582, 2309, 4240, 2937, 3095, 9818, 8669, 2103, 1178, 5503, 3418, 6324, 6262, 7000, 4985, 9657, 9799, 3989, 9114, 2777, 660, 1517, 7462, 42, 951, 4916, 1941, 8397, 698, 964, 6826, 4425, 3635, 9832, 8126, 7000, 8060, 1316, 8985, 935, 6503, 8709, 2586, 6339, 671, 6564, 5267, 7117, 2874, 4538, 7342, 1079, 6643, 6833, 7990, 7881, 6883, 7134, 220, 7675, 6664, 864, 6866, 1166, 2806, 8444, 4116, 2505, 6419, 9065, 4567, 7136, 3510, 9099, 5035, 2798, 8834, 8483, 1421, 5281, 6426, 948, 4208, 5227, 3757, 5593, 2411, 8615, 5558, 3132, 2841, 2235, 6664, 8072, 417, 3544, 3270, 1533, 6136, 7419, 4491, 4347, 2279, 8743, 2876, 3525, 9322, 2014, 4542, 2495, 2474, 9575, 8690, 8623, 5508, 7281, 8941, 3860, 6877, 6264, 6397, 6744, 6781, 8679, 9249, 8748, 4579, 9617, 7449, 3161, 6886, 4131, 4698, 6789, 200, 4814, 324, 2202, 526, 3996, 1332, 5238, 438, 782, 7081, 4610, 4551, 4125, 6348, 2116, 8574, 5795, 6100, 5765, 618, 2727, 2943, 1452, 12, 3329, 1375, 7921, 7282, 9375, 9512, 9908, 400, 6675, 7555, 3788, 6233, 6674, 7896, 763, 5319, 5156, 2647, 4342, 9671, 9298, 4224, 9024, 4324, 1339, 4544, 8947, 9293, 3054, 7956, 2099, 6966, 8239, 1137, 4807, 5590, 9518, 1333, 3052, 704, 7074, 9735, 5010, 6727, 4174, 9042, 7306, 6846, 4235, 7687, 7341, 9907, 8697, 5567, 5430, 2362, 4747, 1190, 1322, 226, 5978, 7207, 2022, 1673, 7584, 9197, 6189, 772, 7354, 2905, 9714, 7476, 9121, 9936, 1444, 349, 9275, 7783, 9475, 51, 9627, 446, 2014, 5598, 4528, 307, 8182, 9299, 6927, 920, 7653, 5193, 3149, 1667, 8657, 892, 8526, 3111, 3133, 1385, 2311, 5755, 5645, 2867, 7592, 9876, 2599, 7306, 6165, 5058, 5496, 2261, 9998, 954, 3020, 5122, 8430, 3480, 5849, 3698, 41, 9948, 9830, 7016, 7254, 6373, 8347, 1189, 4952, 7297, 154, 4597, 6779, 1367, 9244, 2995, 9622, 7158, 4628, 1483, 122, 1196, 3995, 6204, 6619, 3567, 816, 9913, 965, 2927, 3782, 9761, 3336, 1153, 4021, 5619, 3671, 1733, 1288, 9107, 8987, 1551, 9840, 7965, 8377, 1117, 1373, 9707, 1761, 2471, 2490, 7235, 1421, 9432, 6196, 4343, 4628, 7451, 3058, 4684, 2311, 7574, 4967, 7557, 1070, 4146, 6233, 6445, 5698, 5222, 8151]\n",
            "Los puntos más cercanos son: 113 y 113\n",
            "La distancia entre ellos es: 0.0\n"
          ]
        }
      ]
    },
    {
      "cell_type": "markdown",
      "source": [
        "**1D aplicando Divide y Vencerás**"
      ],
      "metadata": {
        "id": "_CvhQfYLsyIm"
      }
    },
    {
      "cell_type": "markdown",
      "source": [
        "Es posible resolver el problema de encontrar los dos puntos más cercanos en una dimensión dada utilizando el algoritmo de Divide y Vencerás. El algoritmo funciona dividiendo el conjunto de puntos en dos subconjuntos y resolviendo el problema en cada uno de ellos de manera recursiva. Luego, se comparan las soluciones encontradas en cada subconjunto y se elige la mejor.\n",
        "\n",
        "**La idea básica es dividir los puntos en dos grupos, uno con los puntos de la izquierda y otro con los puntos de la derecha.** Se busca la distancia minima entre ambos grupos y se compara con la distancia minima encontrada en cada grupo individualmente. El procedimiento se repite con cada uno de los grupos hasta encontrar la distancia minima entre los puntos."
      ],
      "metadata": {
        "id": "Ro-b202atMx5"
      }
    },
    {
      "cell_type": "code",
      "source": [
        "import math\n",
        "import random\n",
        "def distancia(p1, p2):\n",
        "    return math.sqrt((p1 - p2)**2)\n",
        "\n",
        "def puntos_mas_cercanos_divide_y_venceras(LISTA_1D):\n",
        "    LISTA_1D.sort()\n",
        "    n = len(LISTA_1D)\n",
        "    if n <= 3:\n",
        "        distancia_minima = float(\"inf\")\n",
        "        p1 = 0\n",
        "        p2 = 0\n",
        "        for i in range(n):\n",
        "            for j in range(i+1,n):\n",
        "                d = distancia(LISTA_1D[i],LISTA_1D[j])\n",
        "                if d < distancia_minima:\n",
        "                    distancia_minima = d\n",
        "                    p1,p2 = LISTA_1D[i],LISTA_1D[j]\n",
        "        return p1,p2,distancia_minima\n",
        "    else:\n",
        "        mitad = n//2\n",
        "        p1,p2,d1 = puntos_mas_cercanos_divide_y_venceras(LISTA_1D[:mitad])\n",
        "        p3,p4,d2 = puntos_mas_cercanos_divide_y_venceras(LISTA_1D[mitad:])\n",
        "        if d1 < d2:\n",
        "            distancia_minima = d1\n",
        "            p5,p6 = p1,p2\n",
        "        else:\n",
        "            distancia_minima = d2\n",
        "            p5,p6 = p3,p4\n",
        "        strip = []\n",
        "        for i in range(n):\n",
        "            if abs(LISTA_1D[i]-LISTA_1D[mitad]) < distancia_minima:\n",
        "                strip.append(LISTA_1D[i])\n",
        "        strip.sort()\n",
        "        n_strip = len(strip)\n",
        "        for i in range(n_strip):\n",
        "            for j in range(i+1,min(i+8,n_strip)):\n",
        "                d = distancia(strip[i],strip[j])\n",
        "                if d < distancia_minima:\n",
        "                    distancia_minima = d\n",
        "                    p5,p6 = strip[i],strip[j]\n",
        "    return p5,p6,distancia_minima\n"
      ],
      "metadata": {
        "id": "WqCf-doHsx1o"
      },
      "execution_count": null,
      "outputs": []
    },
    {
      "cell_type": "code",
      "source": [
        "#Caso de uso\n",
        "LISTA_1D = [random.randrange(1,10000) for x in range(1000)]\n",
        "p1, p2, distancia_minima = puntos_mas_cercanos_divide_y_venceras(LISTA_1D)\n",
        "print(\"Los puntos más cercanos son:\", p1, \"y\", p2, \"La distancia entre ellos es:\", distancia_minima)"
      ],
      "metadata": {
        "colab": {
          "base_uri": "https://localhost:8080/"
        },
        "id": "b1ahteK_uuCH",
        "outputId": "6fd625fe-8c5f-4ad3-fb11-474b63d2fb56"
      },
      "execution_count": null,
      "outputs": [
        {
          "output_type": "stream",
          "name": "stdout",
          "text": [
            "Los puntos más cercanos son: 9944 y 9944 La distancia entre ellos es: 0.0\n"
          ]
        }
      ]
    },
    {
      "cell_type": "code",
      "source": [
        "#Casos de uso sencillo\n",
        "LISTA_1D = [-15,9,-7,10]\n",
        "p1, p2, distancia_minima = puntos_mas_cercanos_divide_y_venceras(LISTA_1D)\n",
        "print(\"Los puntos más cercanos son:\", p1, \"y\", p2, \"La distancia entre ellos es:\", distancia_minima)"
      ],
      "metadata": {
        "colab": {
          "base_uri": "https://localhost:8080/"
        },
        "id": "ZI_e5wh0ucCp",
        "outputId": "d4260e67-6246-415d-de2f-e531ea0a5e7b"
      },
      "execution_count": null,
      "outputs": [
        {
          "output_type": "stream",
          "name": "stdout",
          "text": [
            "Los puntos más cercanos son: 9 y 10 La distancia entre ellos es: 1.0\n"
          ]
        }
      ]
    },
    {
      "cell_type": "markdown",
      "source": [
        "Este algoritmo utiliza la técnica de Divide y Vencerás para resolver el problema de manera eficiente, dividiendo el conjunto de puntos en dos subconjuntos y resolviendo el problema en cada uno de ellos de manera recursiva. Luego, se comparan las soluciones encontradas en cada subconjunto y se elige la mejor.\n",
        "\n",
        "La complejidad temporal del algoritmo es **O(n log n)** debido a que se esta dividiendo el problema en subproblemas de tamaño n/2 y se esta resolviendo cada subproblema de manera recursiva, similar al proceso de ordenamiento.La complejidad espacial es **O(n)** debido a que se esta utilizando un arreglo \"strip\" para almacenar los puntos que se encuentran dentro del rango.\n",
        "\n",
        "Es importante mencionar que este algoritmo es menos costoso que el algoritmo por fuerza bruta y cuando el numero de puntos sea mayor a un cierto valor, ya que el algoritmo es mas eficiente para problemas con un gran numero de puntos.\n",
        "\n",
        "\n",
        "---\n",
        "\n",
        "La complejidad temporal del algoritmo de divide y vencerás para resolver el problema de encontrar los dos puntos más cercanos en una dimensión dada es O(n log n), y no es posible mejorarla a menos que se encuentre una forma de resolver el problema en menos tiempo. Sin embargo, hay algunas técnicas que se pueden utilizar para mejorar la eficiencia del algoritmo:\n",
        "\n",
        "\n",
        "*   Utilizar un algoritmo de ordenamiento más eficiente: Si se utiliza un algoritmo de ordenamiento más eficiente para ordenar la lista de identificadores de puntos, se puede reducir el tiempo de ordenamiento y, por lo tanto, mejorar la eficiencia del algoritmo.\n",
        "*   Utilizar un algoritmo de búsqueda más eficiente: En lugar de buscar la distancia mínima entre los puntos dentro del strip mediante una comparación de punto a punto, se pueden utilizar algoritmos de búsqueda más eficientes como el algoritmo de búsqueda K-D Tree, que organiza los puntos en un árbol binario, permitiendo buscar puntos cercanos de manera más rápida.\n",
        "\n",
        "*   Utilizar un tamaño fijo para el strip: En lugar de utilizar todos los puntos dentro del rango de la distancia mínima encontrada, se puede utilizar un tamaño fijo para el strip, lo cual reduce el tiempo de búsqueda dentro del strip.\n",
        "*   Utilizar un tamaño variable para el strip: Se puede utilizar un tamaño variable para el strip, dependiendo del tamaño del conjunto de puntos, lo cual ayudaría a reducir el tiempo de búsqueda dentro del strip.\n",
        "\n",
        "Estas técnicas pueden mejorar la eficiencia del algoritmo, pero no cambiarían la complejidad temporal del algoritmo, que seguiría siendo O(n log n)\n",
        "\n",
        "Es importante mencionar que estas mejoras son aplicables solo si se requiere trabajar con grandes cantidades de datos y se requiere la menor complejidad temporal posible.\n"
      ],
      "metadata": {
        "id": "_Xr_JpmQu8Bu"
      }
    },
    {
      "cell_type": "markdown",
      "source": [
        "**2D aplicando Divide y Vencerás**"
      ],
      "metadata": {
        "id": "n1KyV-v7ynGQ"
      }
    },
    {
      "cell_type": "code",
      "source": [
        "import math\n",
        "import random\n",
        "def distancia(p1, p2):\n",
        "    return math.sqrt((p1[0] - p2[0])**2 + (p1[1] - p2[1])**2)\n",
        "\n",
        "def puntos_mas_cercanos_divide_y_venceras_2d(LISTA_2D):\n",
        "    LISTA_2D.sort()\n",
        "    n = len(LISTA_2D)\n",
        "    if n <= 3:\n",
        "        distancia_minima = float(\"inf\")\n",
        "        p1 = (0,0)\n",
        "        p2 = (0,0)\n",
        "        for i in range(n):\n",
        "            for j in range(i+1,n):\n",
        "                d = distancia(LISTA_2D[i],LISTA_2D[j])\n",
        "                if d < distancia_minima:\n",
        "                    distancia_minima = d\n",
        "                    p1,p2 = LISTA_2D[i],LISTA_2D[j]\n",
        "        return p1,p2,distancia_minima\n",
        "    else:\n",
        "        mitad = n//2\n",
        "        p1,p2,d1 = puntos_mas_cercanos_divide_y_venceras_2d(LISTA_2D[:mitad])\n",
        "        p3,p4,d2 = puntos_mas_cercanos_divide_y_venceras_2d(LISTA_2D[mitad:])\n",
        "        if d1 < d2:\n",
        "            distancia_minima = d1\n",
        "            p5,p6 = p1,p2\n",
        "        else:\n",
        "            distancia_minima = d2\n",
        "            p5,p6 = p3,p4\n",
        "\n",
        "        strip = []\n",
        "        for i in range(n):\n",
        "            if abs(LISTA_2D[i][0]-LISTA_2D[mitad][0]) < distancia_minima:\n",
        "                strip.append(LISTA_2D[i])\n",
        "        strip.sort(key = lambda x: x[1])\n",
        "        n_strip = len(strip)\n",
        "        for i in range(n_strip):\n",
        "            for j in range(i+1,min(i+8,n_strip)):\n",
        "                d = distancia(strip[i],strip[j])\n",
        "                if d < distancia_minima:\n",
        "                    distancia_minima = d\n",
        "                    p5,p6 = strip[i],strip[j]\n",
        "    return p5,p6,distancia_minima\n"
      ],
      "metadata": {
        "id": "qiAxPHpryr--"
      },
      "execution_count": null,
      "outputs": []
    },
    {
      "cell_type": "code",
      "source": [
        "#Caso de uso sencillo\n",
        "#Ejemplo de uso\n",
        "import random\n",
        "LISTA_2D = [(0,0), (1,1),(-5,6), (15,-15)]\n",
        "p1, p2, distancia_minima = puntos_mas_cercanos_divide_y_venceras_2d(LISTA_2D)\n",
        "print(\"Los puntos más cercanos son:\", p1, \"y\", p2)\n",
        "print(\"La distancia entre ellos es:\", distancia_minima)"
      ],
      "metadata": {
        "colab": {
          "base_uri": "https://localhost:8080/"
        },
        "id": "7Npe-R3ey6wk",
        "outputId": "e03060d2-0307-4cd1-9168-0e06e5b9d78a"
      },
      "execution_count": null,
      "outputs": [
        {
          "output_type": "stream",
          "name": "stdout",
          "text": [
            "Los puntos más cercanos son: (0, 0) y (1, 1)\n",
            "La distancia entre ellos es: 1.4142135623730951\n"
          ]
        }
      ]
    },
    {
      "cell_type": "code",
      "source": [
        "#Caso de uso\n",
        "import random\n",
        "LISTA_2D = [(random.randrange(1,10000),random.randrange(1,10000)) for x in range(1000)]\n",
        "p1, p2, distancia_minima = puntos_mas_cercanos_divide_y_venceras_2d(LISTA_2D)\n",
        "print(\"Los puntos más cercanos son:\", p1, \"y\", p2)\n",
        "print(\"La distancia entre ellos es:\", distancia_minima)"
      ],
      "metadata": {
        "colab": {
          "base_uri": "https://localhost:8080/"
        },
        "id": "YXdmIZ-Gy08f",
        "outputId": "4c9398c9-39c9-4de8-9ad3-92a62e7a761f"
      },
      "execution_count": null,
      "outputs": [
        {
          "output_type": "stream",
          "name": "stdout",
          "text": [
            "Los puntos más cercanos son: (2833, 7501) y (2835, 7498)\n",
            "La distancia entre ellos es: 3.605551275463989\n"
          ]
        }
      ]
    },
    {
      "cell_type": "markdown",
      "source": [
        "**3D Divide y Vencerás**"
      ],
      "metadata": {
        "id": "hxf8wPr70xjW"
      }
    },
    {
      "cell_type": "markdown",
      "source": [
        "El proceso es similar al que se utilizó en el caso 2D. Sin embargo, la distancia entre dos puntos debe ser calculada de una forma diferente, en este caso se suele usar la *distancia euclidea*, es decir, la raíz cuadrada de la suma de las diferencias entre las coordenadas de dos puntos elevadas al cuadrado (distancia = sqrt((x2-x1)^2 + (y2-y1)^2 + (z2-z1)^2)."
      ],
      "metadata": {
        "id": "wAQvnVTz02rd"
      }
    },
    {
      "cell_type": "code",
      "source": [
        "import math\n",
        "import random\n",
        "\n",
        "def distancia(p1, p2):\n",
        "    \"\"\"Calcula la distancia euclidiana entre dos puntos en 3D\"\"\"\n",
        "    return math.sqrt((p2[0]-p1[0])**2 + (p2[1]-p1[1])**2 + (p2[2]-p1[2])**2)\n",
        "\n",
        "def puntos_mas_cercanos(puntos):\n",
        "    \"\"\"Encuentra los dos puntos más cercanos en un conjunto de puntos en 3D utilizando la técnica de divide y venceras\"\"\"\n",
        "    # Caso base: menos de 4 puntos\n",
        "    n = len(puntos)\n",
        "    if n < 4:\n",
        "        dist_min = float('inf')\n",
        "        p1, p2 = None, None\n",
        "        for i in range(n):\n",
        "            for j in range(i+1, n):\n",
        "                dist = distancia(puntos[i], puntos[j])\n",
        "                if dist < dist_min:\n",
        "                    dist_min = dist\n",
        "                    p1, p2 = puntos[i], puntos[j]\n",
        "        return p1, p2, dist_min\n",
        "\n",
        "    # Ordenar puntos por coordenada x\n",
        "    puntos.sort(key=lambda p: p[0])\n",
        "\n",
        "    # Dividir en subconjuntos\n",
        "    mitad = n // 2\n",
        "    izq = puntos[:mitad]\n",
        "    der = puntos[mitad:]\n",
        "\n",
        "    # Resolver recursivamente\n",
        "    pi1, pi2, dist_izq = puntos_mas_cercanos(izq)\n",
        "    pd1, pd2, dist_der = puntos_mas_cercanos(der)\n",
        "\n",
        "    # Encontrar el punto más cercano en cada subconjunto\n",
        "    if dist_izq < dist_der:\n",
        "        dist_min = dist_izq\n",
        "        p1, p2 = pi1, pi2\n",
        "    else:\n",
        "        dist_min = dist_der\n",
        "        p1, p2 = pd1, pd2\n",
        "\n",
        "    # Unir ambos subconjuntos y calcular distancia entre puntos cercanos\n",
        "    puntos_cen = [p for p in puntos if abs(p[0]-puntos[mitad][0]) < dist_min]\n",
        "    for i in range(len(puntos_cen)):\n",
        "        for j in range(i+1, min(i+8, len(puntos_cen))):\n",
        "            dist = distancia(puntos_cen[i], puntos_cen[j])\n",
        "            if dist < dist_min:\n",
        "              dist_min = dist\n",
        "              p1, p2 = puntos_cen[i], puntos_cen[j]\n",
        "    return p1, p2, dist_min\n"
      ],
      "metadata": {
        "id": "SPco74H90w8m"
      },
      "execution_count": 10,
      "outputs": []
    },
    {
      "cell_type": "code",
      "source": [
        "#Caso de uso sencillo\n",
        "LISTA_3D = [(-8,-6,-8),(1,1,1),(2,2,2),(10,10,10),(-15,-15,-15)]\n",
        "p1, p2, dist = puntos_mas_cercanos(LISTA_3D)\n",
        "print(\"Los puntos más cercanos son: \", p1, \" y \", p2)\n",
        "print(\"Con una distancia de: \", dist)"
      ],
      "metadata": {
        "colab": {
          "base_uri": "https://localhost:8080/",
          "height": 0
        },
        "id": "Y-aLGtJ2Nk2a",
        "outputId": "c6ce89e8-ad73-42c9-d352-88d924f7967b"
      },
      "execution_count": 6,
      "outputs": [
        {
          "output_type": "stream",
          "name": "stdout",
          "text": [
            "Los puntos más cercanos son:  (1, 1, 1)  y  (2, 2, 2)\n",
            "Con una distancia de:  1.7320508075688772\n"
          ]
        }
      ]
    },
    {
      "cell_type": "code",
      "source": [
        "#Caso de uso\n",
        "LISTA_3D = [(random.randrange(1,10000),random.randrange(1,10000),random.randrange(1,10000)) for x in range(1000)]\n",
        "p1, p2, dist = puntos_mas_cercanos(LISTA_3D)\n",
        "print(\"Los puntos más cercanos son: \", p1, \" y \", p2)\n",
        "print(\"Con una distancia de: \", dist)"
      ],
      "metadata": {
        "colab": {
          "base_uri": "https://localhost:8080/",
          "height": 0
        },
        "id": "oHvqVjDhNe52",
        "outputId": "df21b722-8b3b-4fbb-e872-5a97a2c826a3"
      },
      "execution_count": 11,
      "outputs": [
        {
          "output_type": "stream",
          "name": "stdout",
          "text": [
            "Los puntos más cercanos son:  (6901, 4624, 1873)  y  (6933, 4662, 1870)\n",
            "Con una distancia de:  49.76946855251722\n"
          ]
        }
      ]
    }
  ]
}